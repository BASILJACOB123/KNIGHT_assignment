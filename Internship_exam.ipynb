{
 "cells": [
  {
   "cell_type": "code",
   "execution_count": 1,
   "metadata": {},
   "outputs": [],
   "source": [
    "import numpy as np\n",
    "import pandas as pd\n",
    "import matplotlib.pyplot as plt\n",
    "import seaborn as sns"
   ]
  },
  {
   "cell_type": "code",
   "execution_count": 2,
   "metadata": {},
   "outputs": [],
   "source": [
    "df=pd.read_csv('train.csv')"
   ]
  },
  {
   "cell_type": "code",
   "execution_count": 3,
   "metadata": {},
   "outputs": [
    {
     "data": {
      "text/html": [
       "<div>\n",
       "<style scoped>\n",
       "    .dataframe tbody tr th:only-of-type {\n",
       "        vertical-align: middle;\n",
       "    }\n",
       "\n",
       "    .dataframe tbody tr th {\n",
       "        vertical-align: top;\n",
       "    }\n",
       "\n",
       "    .dataframe thead th {\n",
       "        text-align: right;\n",
       "    }\n",
       "</style>\n",
       "<table border=\"1\" class=\"dataframe\">\n",
       "  <thead>\n",
       "    <tr style=\"text-align: right;\">\n",
       "      <th></th>\n",
       "      <th>user_name</th>\n",
       "      <th>country</th>\n",
       "      <th>review_title</th>\n",
       "      <th>review_description</th>\n",
       "      <th>designation</th>\n",
       "      <th>points</th>\n",
       "      <th>price</th>\n",
       "      <th>province</th>\n",
       "      <th>region_1</th>\n",
       "      <th>region_2</th>\n",
       "      <th>winery</th>\n",
       "      <th>variety</th>\n",
       "    </tr>\n",
       "  </thead>\n",
       "  <tbody>\n",
       "    <tr>\n",
       "      <td>0</td>\n",
       "      <td>NaN</td>\n",
       "      <td>Australia</td>\n",
       "      <td>Andrew Peace 2007 Peace Family Vineyard Chardo...</td>\n",
       "      <td>Classic Chardonnay aromas of apple, pear and h...</td>\n",
       "      <td>Peace Family Vineyard</td>\n",
       "      <td>83</td>\n",
       "      <td>10.0</td>\n",
       "      <td>Australia Other</td>\n",
       "      <td>South Eastern Australia</td>\n",
       "      <td>NaN</td>\n",
       "      <td>Andrew Peace</td>\n",
       "      <td>Chardonnay</td>\n",
       "    </tr>\n",
       "    <tr>\n",
       "      <td>1</td>\n",
       "      <td>@wawinereport</td>\n",
       "      <td>US</td>\n",
       "      <td>North by Northwest 2014 Red (Columbia Valley (...</td>\n",
       "      <td>This wine is near equal parts Syrah and Merlot...</td>\n",
       "      <td>NaN</td>\n",
       "      <td>89</td>\n",
       "      <td>15.0</td>\n",
       "      <td>Washington</td>\n",
       "      <td>Columbia Valley (WA)</td>\n",
       "      <td>Columbia Valley</td>\n",
       "      <td>North by Northwest</td>\n",
       "      <td>Red Blend</td>\n",
       "    </tr>\n",
       "    <tr>\n",
       "      <td>2</td>\n",
       "      <td>NaN</td>\n",
       "      <td>Italy</td>\n",
       "      <td>Renato Ratti 2007 Conca  (Barolo)</td>\n",
       "      <td>Barolo Conca opens with inky dark concentratio...</td>\n",
       "      <td>Conca</td>\n",
       "      <td>94</td>\n",
       "      <td>80.0</td>\n",
       "      <td>Piedmont</td>\n",
       "      <td>Barolo</td>\n",
       "      <td>NaN</td>\n",
       "      <td>Renato Ratti</td>\n",
       "      <td>Nebbiolo</td>\n",
       "    </tr>\n",
       "    <tr>\n",
       "      <td>3</td>\n",
       "      <td>@vossroger</td>\n",
       "      <td>France</td>\n",
       "      <td>Domaine l'Ancienne Cure 2010 L'Abbaye White (B...</td>\n",
       "      <td>It's impressive what a small addition of Sauvi...</td>\n",
       "      <td>L'Abbaye</td>\n",
       "      <td>87</td>\n",
       "      <td>22.0</td>\n",
       "      <td>Southwest France</td>\n",
       "      <td>Bergerac Sec</td>\n",
       "      <td>NaN</td>\n",
       "      <td>Domaine l'Ancienne Cure</td>\n",
       "      <td>Bordeaux-style White Blend</td>\n",
       "    </tr>\n",
       "    <tr>\n",
       "      <td>4</td>\n",
       "      <td>@vossroger</td>\n",
       "      <td>France</td>\n",
       "      <td>Château du Cèdre 2012 Le Cèdre Vintage Malbec ...</td>\n",
       "      <td>This ripe, sweet wine is rich and full of drie...</td>\n",
       "      <td>Le Cèdre Vintage</td>\n",
       "      <td>88</td>\n",
       "      <td>33.0</td>\n",
       "      <td>France Other</td>\n",
       "      <td>Vin de Liqueur</td>\n",
       "      <td>NaN</td>\n",
       "      <td>Château du Cèdre</td>\n",
       "      <td>Malbec</td>\n",
       "    </tr>\n",
       "  </tbody>\n",
       "</table>\n",
       "</div>"
      ],
      "text/plain": [
       "       user_name    country  \\\n",
       "0            NaN  Australia   \n",
       "1  @wawinereport         US   \n",
       "2            NaN      Italy   \n",
       "3     @vossroger     France   \n",
       "4     @vossroger     France   \n",
       "\n",
       "                                        review_title  \\\n",
       "0  Andrew Peace 2007 Peace Family Vineyard Chardo...   \n",
       "1  North by Northwest 2014 Red (Columbia Valley (...   \n",
       "2                  Renato Ratti 2007 Conca  (Barolo)   \n",
       "3  Domaine l'Ancienne Cure 2010 L'Abbaye White (B...   \n",
       "4  Château du Cèdre 2012 Le Cèdre Vintage Malbec ...   \n",
       "\n",
       "                                  review_description            designation  \\\n",
       "0  Classic Chardonnay aromas of apple, pear and h...  Peace Family Vineyard   \n",
       "1  This wine is near equal parts Syrah and Merlot...                    NaN   \n",
       "2  Barolo Conca opens with inky dark concentratio...                  Conca   \n",
       "3  It's impressive what a small addition of Sauvi...               L'Abbaye   \n",
       "4  This ripe, sweet wine is rich and full of drie...       Le Cèdre Vintage   \n",
       "\n",
       "   points  price          province                 region_1         region_2  \\\n",
       "0      83   10.0   Australia Other  South Eastern Australia              NaN   \n",
       "1      89   15.0        Washington     Columbia Valley (WA)  Columbia Valley   \n",
       "2      94   80.0          Piedmont                   Barolo              NaN   \n",
       "3      87   22.0  Southwest France             Bergerac Sec              NaN   \n",
       "4      88   33.0      France Other           Vin de Liqueur              NaN   \n",
       "\n",
       "                    winery                     variety  \n",
       "0             Andrew Peace                  Chardonnay  \n",
       "1       North by Northwest                   Red Blend  \n",
       "2             Renato Ratti                    Nebbiolo  \n",
       "3  Domaine l'Ancienne Cure  Bordeaux-style White Blend  \n",
       "4         Château du Cèdre                      Malbec  "
      ]
     },
     "execution_count": 3,
     "metadata": {},
     "output_type": "execute_result"
    }
   ],
   "source": [
    "df.head()"
   ]
  },
  {
   "cell_type": "code",
   "execution_count": 4,
   "metadata": {},
   "outputs": [
    {
     "data": {
      "text/plain": [
       "82657"
      ]
     },
     "execution_count": 4,
     "metadata": {},
     "output_type": "execute_result"
    }
   ],
   "source": [
    "len(df)"
   ]
  },
  {
   "cell_type": "code",
   "execution_count": 5,
   "metadata": {},
   "outputs": [
    {
     "data": {
      "text/plain": [
       "Index(['user_name', 'country', 'review_title', 'review_description',\n",
       "       'designation', 'points', 'price', 'province', 'region_1', 'region_2',\n",
       "       'winery', 'variety'],\n",
       "      dtype='object')"
      ]
     },
     "execution_count": 5,
     "metadata": {},
     "output_type": "execute_result"
    }
   ],
   "source": [
    "df.columns # Viewing the columns in the dataset"
   ]
  },
  {
   "cell_type": "code",
   "execution_count": 6,
   "metadata": {},
   "outputs": [
    {
     "data": {
      "text/plain": [
       "user_name             19393\n",
       "country                  35\n",
       "review_title              0\n",
       "review_description        0\n",
       "designation           23647\n",
       "points                    0\n",
       "price                  5569\n",
       "province                 35\n",
       "region_1              12754\n",
       "region_2              46708\n",
       "winery                    0\n",
       "variety                   0\n",
       "dtype: int64"
      ]
     },
     "execution_count": 6,
     "metadata": {},
     "output_type": "execute_result"
    }
   ],
   "source": [
    "df.isnull().sum() #Checkig for empty records in the dataset"
   ]
  },
  {
   "cell_type": "code",
   "execution_count": 7,
   "metadata": {},
   "outputs": [],
   "source": [
    "df=df.dropna()"
   ]
  },
  {
   "cell_type": "code",
   "execution_count": 8,
   "metadata": {},
   "outputs": [
    {
     "data": {
      "text/plain": [
       "user_name             0\n",
       "country               0\n",
       "review_title          0\n",
       "review_description    0\n",
       "designation           0\n",
       "points                0\n",
       "price                 0\n",
       "province              0\n",
       "region_1              0\n",
       "region_2              0\n",
       "winery                0\n",
       "variety               0\n",
       "dtype: int64"
      ]
     },
     "execution_count": 8,
     "metadata": {},
     "output_type": "execute_result"
    }
   ],
   "source": [
    "df.isnull().sum()"
   ]
  },
  {
   "cell_type": "code",
   "execution_count": 9,
   "metadata": {},
   "outputs": [
    {
     "name": "stdout",
     "output_type": "stream",
     "text": [
      "user_name object\n",
      "country object\n",
      "review_title object\n",
      "review_description object\n",
      "designation object\n",
      "points int64\n",
      "price float64\n",
      "province object\n",
      "region_1 object\n",
      "region_2 object\n",
      "winery object\n",
      "variety object\n"
     ]
    }
   ],
   "source": [
    "# Viewing datatype of each item in dataset\n",
    "for name,dtype in df.dtypes.iteritems():\n",
    "    print(name,end=\" \")\n",
    "    print(dtype)"
   ]
  },
  {
   "cell_type": "code",
   "execution_count": 10,
   "metadata": {},
   "outputs": [],
   "source": [
    "df['price']=df['price'].fillna(value=df['price'].mean())"
   ]
  },
  {
   "cell_type": "code",
   "execution_count": 11,
   "metadata": {},
   "outputs": [
    {
     "data": {
      "text/plain": [
       "<matplotlib.axes._subplots.AxesSubplot at 0x1de3abd84c8>"
      ]
     },
     "execution_count": 11,
     "metadata": {},
     "output_type": "execute_result"
    },
    {
     "data": {
      "image/png": "[encoded data removed]",
      "text/plain": [
       "<Figure size 432x288 with 2 Axes>"
      ]
     },
     "metadata": {
      "needs_background": "light"
     },
     "output_type": "display_data"
    }
   ],
   "source": [
    "sns.heatmap(df.corr())"
   ]
  },
  {
   "cell_type": "code",
   "execution_count": 12,
   "metadata": {},
   "outputs": [
    {
     "data": {
      "text/html": [
       "<div>\n",
       "<style scoped>\n",
       "    .dataframe tbody tr th:only-of-type {\n",
       "        vertical-align: middle;\n",
       "    }\n",
       "\n",
       "    .dataframe tbody tr th {\n",
       "        vertical-align: top;\n",
       "    }\n",
       "\n",
       "    .dataframe thead th {\n",
       "        text-align: right;\n",
       "    }\n",
       "</style>\n",
       "<table border=\"1\" class=\"dataframe\">\n",
       "  <thead>\n",
       "    <tr style=\"text-align: right;\">\n",
       "      <th></th>\n",
       "      <th>points</th>\n",
       "      <th>price</th>\n",
       "    </tr>\n",
       "  </thead>\n",
       "  <tbody>\n",
       "    <tr>\n",
       "      <td>count</td>\n",
       "      <td>15986.000000</td>\n",
       "      <td>15986.000000</td>\n",
       "    </tr>\n",
       "    <tr>\n",
       "      <td>mean</td>\n",
       "      <td>89.591080</td>\n",
       "      <td>42.608908</td>\n",
       "    </tr>\n",
       "    <tr>\n",
       "      <td>std</td>\n",
       "      <td>2.839882</td>\n",
       "      <td>31.293712</td>\n",
       "    </tr>\n",
       "    <tr>\n",
       "      <td>min</td>\n",
       "      <td>80.000000</td>\n",
       "      <td>4.000000</td>\n",
       "    </tr>\n",
       "    <tr>\n",
       "      <td>25%</td>\n",
       "      <td>88.000000</td>\n",
       "      <td>25.000000</td>\n",
       "    </tr>\n",
       "    <tr>\n",
       "      <td>50%</td>\n",
       "      <td>90.000000</td>\n",
       "      <td>38.000000</td>\n",
       "    </tr>\n",
       "    <tr>\n",
       "      <td>75%</td>\n",
       "      <td>92.000000</td>\n",
       "      <td>50.000000</td>\n",
       "    </tr>\n",
       "    <tr>\n",
       "      <td>max</td>\n",
       "      <td>100.000000</td>\n",
       "      <td>2013.000000</td>\n",
       "    </tr>\n",
       "  </tbody>\n",
       "</table>\n",
       "</div>"
      ],
      "text/plain": [
       "             points         price\n",
       "count  15986.000000  15986.000000\n",
       "mean      89.591080     42.608908\n",
       "std        2.839882     31.293712\n",
       "min       80.000000      4.000000\n",
       "25%       88.000000     25.000000\n",
       "50%       90.000000     38.000000\n",
       "75%       92.000000     50.000000\n",
       "max      100.000000   2013.000000"
      ]
     },
     "execution_count": 12,
     "metadata": {},
     "output_type": "execute_result"
    }
   ],
   "source": [
    "df.describe()"
   ]
  },
  {
   "cell_type": "code",
   "execution_count": 13,
   "metadata": {},
   "outputs": [
    {
     "name": "stdout",
     "output_type": "stream",
     "text": [
      "<class 'pandas.core.frame.DataFrame'>\n",
      "Int64Index: 15986 entries, 6 to 82642\n",
      "Data columns (total 12 columns):\n",
      "user_name             15986 non-null object\n",
      "country               15986 non-null object\n",
      "review_title          15986 non-null object\n",
      "review_description    15986 non-null object\n",
      "designation           15986 non-null object\n",
      "points                15986 non-null int64\n",
      "price                 15986 non-null float64\n",
      "province              15986 non-null object\n",
      "region_1              15986 non-null object\n",
      "region_2              15986 non-null object\n",
      "winery                15986 non-null object\n",
      "variety               15986 non-null object\n",
      "dtypes: float64(1), int64(1), object(10)\n",
      "memory usage: 1.6+ MB\n"
     ]
    }
   ],
   "source": [
    "df.info()"
   ]
  },
  {
   "cell_type": "markdown",
   "metadata": {},
   "source": [
    "# MODEL TRAINING\n"
   ]
  },
  {
   "cell_type": "code",
   "execution_count": 58,
   "metadata": {},
   "outputs": [],
   "source": [
    "import seaborn as sns\n",
    "import matplotlib.pyplot as plt\n",
    "from nltk.tokenize.treebank import TreebankWordDetokenizer\n",
    "from nltk.corpus import stopwords\n",
    "from nltk import word_tokenize"
   ]
  },
  {
   "cell_type": "code",
   "execution_count": 59,
   "metadata": {},
   "outputs": [],
   "source": [
    "sns.set(style='whitegrid')"
   ]
  },
  {
   "cell_type": "code",
   "execution_count": 60,
   "metadata": {},
   "outputs": [],
   "source": [
    "stopwords=set(stopwords.words('english'))"
   ]
  },
  {
   "cell_type": "code",
   "execution_count": 61,
   "metadata": {},
   "outputs": [
    {
     "data": {
      "text/plain": [
       "{'a',\n",
       " 'about',\n",
       " 'above',\n",
       " 'after',\n",
       " 'again',\n",
       " 'against',\n",
       " 'ain',\n",
       " 'all',\n",
       " 'am',\n",
       " 'an',\n",
       " 'and',\n",
       " 'any',\n",
       " 'are',\n",
       " 'aren',\n",
       " \"aren't\",\n",
       " 'as',\n",
       " 'at',\n",
       " 'be',\n",
       " 'because',\n",
       " 'been',\n",
       " 'before',\n",
       " 'being',\n",
       " 'below',\n",
       " 'between',\n",
       " 'both',\n",
       " 'but',\n",
       " 'by',\n",
       " 'can',\n",
       " 'couldn',\n",
       " \"couldn't\",\n",
       " 'd',\n",
       " 'did',\n",
       " 'didn',\n",
       " \"didn't\",\n",
       " 'do',\n",
       " 'does',\n",
       " 'doesn',\n",
       " \"doesn't\",\n",
       " 'doing',\n",
       " 'don',\n",
       " \"don't\",\n",
       " 'down',\n",
       " 'during',\n",
       " 'each',\n",
       " 'few',\n",
       " 'for',\n",
       " 'from',\n",
       " 'further',\n",
       " 'had',\n",
       " 'hadn',\n",
       " \"hadn't\",\n",
       " 'has',\n",
       " 'hasn',\n",
       " \"hasn't\",\n",
       " 'have',\n",
       " 'haven',\n",
       " \"haven't\",\n",
       " 'having',\n",
       " 'he',\n",
       " 'her',\n",
       " 'here',\n",
       " 'hers',\n",
       " 'herself',\n",
       " 'him',\n",
       " 'himself',\n",
       " 'his',\n",
       " 'how',\n",
       " 'i',\n",
       " 'if',\n",
       " 'in',\n",
       " 'into',\n",
       " 'is',\n",
       " 'isn',\n",
       " \"isn't\",\n",
       " 'it',\n",
       " \"it's\",\n",
       " 'its',\n",
       " 'itself',\n",
       " 'just',\n",
       " 'll',\n",
       " 'm',\n",
       " 'ma',\n",
       " 'me',\n",
       " 'mightn',\n",
       " \"mightn't\",\n",
       " 'more',\n",
       " 'most',\n",
       " 'mustn',\n",
       " \"mustn't\",\n",
       " 'my',\n",
       " 'myself',\n",
       " 'needn',\n",
       " \"needn't\",\n",
       " 'no',\n",
       " 'nor',\n",
       " 'not',\n",
       " 'now',\n",
       " 'o',\n",
       " 'of',\n",
       " 'off',\n",
       " 'on',\n",
       " 'once',\n",
       " 'only',\n",
       " 'or',\n",
       " 'other',\n",
       " 'our',\n",
       " 'ours',\n",
       " 'ourselves',\n",
       " 'out',\n",
       " 'over',\n",
       " 'own',\n",
       " 're',\n",
       " 's',\n",
       " 'same',\n",
       " 'shan',\n",
       " \"shan't\",\n",
       " 'she',\n",
       " \"she's\",\n",
       " 'should',\n",
       " \"should've\",\n",
       " 'shouldn',\n",
       " \"shouldn't\",\n",
       " 'so',\n",
       " 'some',\n",
       " 'such',\n",
       " 't',\n",
       " 'than',\n",
       " 'that',\n",
       " \"that'll\",\n",
       " 'the',\n",
       " 'their',\n",
       " 'theirs',\n",
       " 'them',\n",
       " 'themselves',\n",
       " 'then',\n",
       " 'there',\n",
       " 'these',\n",
       " 'they',\n",
       " 'this',\n",
       " 'those',\n",
       " 'through',\n",
       " 'to',\n",
       " 'too',\n",
       " 'under',\n",
       " 'until',\n",
       " 'up',\n",
       " 've',\n",
       " 'very',\n",
       " 'was',\n",
       " 'wasn',\n",
       " \"wasn't\",\n",
       " 'we',\n",
       " 'were',\n",
       " 'weren',\n",
       " \"weren't\",\n",
       " 'what',\n",
       " 'when',\n",
       " 'where',\n",
       " 'which',\n",
       " 'while',\n",
       " 'who',\n",
       " 'whom',\n",
       " 'why',\n",
       " 'will',\n",
       " 'with',\n",
       " 'won',\n",
       " \"won't\",\n",
       " 'wouldn',\n",
       " \"wouldn't\",\n",
       " 'y',\n",
       " 'you',\n",
       " \"you'd\",\n",
       " \"you'll\",\n",
       " \"you're\",\n",
       " \"you've\",\n",
       " 'your',\n",
       " 'yours',\n",
       " 'yourself',\n",
       " 'yourselves'}"
      ]
     },
     "execution_count": 61,
     "metadata": {},
     "output_type": "execute_result"
    }
   ],
   "source": [
    "stopwords"
   ]
  },
  {
   "cell_type": "code",
   "execution_count": 62,
   "metadata": {},
   "outputs": [],
   "source": [
    "detokenizer=TreebankWordDetokenizer()"
   ]
  },
  {
   "cell_type": "code",
   "execution_count": 63,
   "metadata": {},
   "outputs": [
    {
     "data": {
      "image/png": "[encoded data removed]",
      "text/plain": [
       "<Figure size 432x288 with 1 Axes>"
      ]
     },
     "metadata": {},
     "output_type": "display_data"
    }
   ],
   "source": [
    "def clean_description(desc):\n",
    "    desc=word_tokenize(desc.lower())\n",
    "    desc=[token for token in desc if token not in stopwords and token.isalpha()]\n",
    "    return detokenizer.detokenize(desc)\n",
    "\n",
    "df['cleaned_description']=df['review_description'].apply(clean_description)\n",
    "\n",
    "word_occurence=df['cleaned_description'].str.split(expand=True).stack().value_counts()\n",
    "\n",
    "total_words=sum(word_occurence)\n",
    "\n",
    "#Plotting common words\n",
    "plt.tight_layout()\n",
    "top_words=word_occurence[:30]/total_words\n",
    "\n",
    "ax=sns.barplot(x=top_words.values,y=top_words.index)\n",
    "\n",
    "#Setting title\n",
    "ax.set_title('% Occurence of Most Frequent Words')\n",
    "\n",
    "plt.show()"
   ]
  },
  {
   "cell_type": "code",
   "execution_count": 64,
   "metadata": {},
   "outputs": [
    {
     "data": {
      "text/plain": [
       "array([ 91,  90,  92,  88,  84,  87,  93,  89,  94,  86,  95,  85,  83,\n",
       "        97,  82,  81, 100,  80,  96,  98,  99], dtype=int64)"
      ]
     },
     "execution_count": 64,
     "metadata": {},
     "output_type": "execute_result"
    }
   ],
   "source": [
    "df['points'].unique()"
   ]
  },
  {
   "cell_type": "code",
   "execution_count": 66,
   "metadata": {},
   "outputs": [],
   "source": [
    "def points_to_class(points):\n",
    "    if points in range(80,83):\n",
    "        return 0\n",
    "    elif points in range(83,87):\n",
    "        return 1\n",
    "    elif points in range(87,90):\n",
    "        return 2\n",
    "    elif points in range(90,94):\n",
    "        return 3\n",
    "    elif points in range(94,98):\n",
    "        return 4\n",
    "    else:\n",
    "        return 5\n",
    "df['rating']=df['points'].apply(points_to_class)\n",
    "    "
   ]
  },
  {
   "cell_type": "code",
   "execution_count": 68,
   "metadata": {},
   "outputs": [
    {
     "data": {
      "text/html": [
       "<div>\n",
       "<style scoped>\n",
       "    .dataframe tbody tr th:only-of-type {\n",
       "        vertical-align: middle;\n",
       "    }\n",
       "\n",
       "    .dataframe tbody tr th {\n",
       "        vertical-align: top;\n",
       "    }\n",
       "\n",
       "    .dataframe thead th {\n",
       "        text-align: right;\n",
       "    }\n",
       "</style>\n",
       "<table border=\"1\" class=\"dataframe\">\n",
       "  <thead>\n",
       "    <tr style=\"text-align: right;\">\n",
       "      <th></th>\n",
       "      <th>user_name</th>\n",
       "      <th>country</th>\n",
       "      <th>review_title</th>\n",
       "      <th>review_description</th>\n",
       "      <th>designation</th>\n",
       "      <th>points</th>\n",
       "      <th>price</th>\n",
       "      <th>province</th>\n",
       "      <th>region_1</th>\n",
       "      <th>region_2</th>\n",
       "      <th>winery</th>\n",
       "      <th>variety</th>\n",
       "      <th>cleaned_description</th>\n",
       "      <th>rating</th>\n",
       "    </tr>\n",
       "  </thead>\n",
       "  <tbody>\n",
       "    <tr>\n",
       "      <td>6</td>\n",
       "      <td>@wawinereport</td>\n",
       "      <td>US</td>\n",
       "      <td>Gordon Estate 2012 Tradition Red (Columbia Val...</td>\n",
       "      <td>Half Syrah and half Cabernet Sauvignon, with 4...</td>\n",
       "      <td>Tradition</td>\n",
       "      <td>91</td>\n",
       "      <td>45.0</td>\n",
       "      <td>Washington</td>\n",
       "      <td>Columbia Valley (WA)</td>\n",
       "      <td>Columbia Valley</td>\n",
       "      <td>Gordon Estate</td>\n",
       "      <td>Red Blend</td>\n",
       "      <td>half syrah half cabernet sauvignon new french ...</td>\n",
       "      <td>3</td>\n",
       "    </tr>\n",
       "  </tbody>\n",
       "</table>\n",
       "</div>"
      ],
      "text/plain": [
       "       user_name country                                       review_title  \\\n",
       "6  @wawinereport      US  Gordon Estate 2012 Tradition Red (Columbia Val...   \n",
       "\n",
       "                                  review_description designation  points  \\\n",
       "6  Half Syrah and half Cabernet Sauvignon, with 4...   Tradition      91   \n",
       "\n",
       "   price    province              region_1         region_2         winery  \\\n",
       "6   45.0  Washington  Columbia Valley (WA)  Columbia Valley  Gordon Estate   \n",
       "\n",
       "     variety                                cleaned_description  rating  \n",
       "6  Red Blend  half syrah half cabernet sauvignon new french ...       3  "
      ]
     },
     "execution_count": 68,
     "metadata": {},
     "output_type": "execute_result"
    }
   ],
   "source": [
    "df.head(1)"
   ]
  },
  {
   "cell_type": "code",
   "execution_count": 72,
   "metadata": {},
   "outputs": [
    {
     "data": {
      "text/plain": [
       "rating\n",
       "0     11504\n",
       "1    178872\n",
       "2    437350\n",
       "3    695053\n",
       "4    107458\n",
       "5      1966\n",
       "Name: points, dtype: int64"
      ]
     },
     "execution_count": 72,
     "metadata": {},
     "output_type": "execute_result"
    }
   ],
   "source": [
    "df.groupby('rating')['points'].sum()"
   ]
  },
  {
   "cell_type": "code",
   "execution_count": 84,
   "metadata": {},
   "outputs": [],
   "source": [
    "num_classes=6\n",
    "embedding_dim=300\n",
    "epochs=60\n",
    "batch_size=100\n",
    "max_len=100\n",
    "\n",
    "class_weights={\n",
    "    0:7,\n",
    "    1:1,\n",
    "    2:1,\n",
    "    3:1,\n",
    "    4:1,\n",
    "    5:7\n",
    "    \n",
    "}"
   ]
  },
  {
   "cell_type": "code",
   "execution_count": 76,
   "metadata": {},
   "outputs": [
    {
     "name": "stderr",
     "output_type": "stream",
     "text": [
      "Using TensorFlow backend.\n"
     ]
    }
   ],
   "source": [
    "import numpy as np\n",
    "import pandas as pd\n",
    "\n",
    "from keras.models import Model,load_model\n",
    "from keras.layers import Dense,Embedding,Input,Activation,CuDNNGRU,Bidirectional,Dropout,GlobalMaxPooling1D\n",
    "from keras.preprocessing.text import Tokenizer\n",
    "from keras.preprocessing.sequence import pad_sequences\n",
    "from keras.callbacks import EarlyStopping,ModelCheckpoint,Callback"
   ]
  },
  {
   "cell_type": "code",
   "execution_count": 78,
   "metadata": {},
   "outputs": [],
   "source": [
    "# One Hot Encode target\n",
    "\n",
    "def onehot(arr,num_class):\n",
    "    return np.eye(num_class)[np.array(arr.astype(int)).reshape(-1)]\n",
    "\n",
    "y=onehot(df['rating'],num_classes)"
   ]
  },
  {
   "cell_type": "code",
   "execution_count": 79,
   "metadata": {},
   "outputs": [],
   "source": [
    "# Train validation split\n",
    "\n",
    "from sklearn.model_selection import train_test_split\n",
    "X_train,X_val,y_train,y_val=train_test_split(df['review_description'],y,test_size=0.05)"
   ]
  },
  {
   "cell_type": "code",
   "execution_count": 85,
   "metadata": {},
   "outputs": [],
   "source": [
    "# Prepare embeddings \n",
    "# Embedding file not contained in repo. Download from https://nlp.stanford.edu/projects/glove/\n",
    "# I am using glove.840B.300d.zip\n",
    "\n",
    "embeddings_index = {}\n",
    "\n",
    "# Read pre-trained word vectors and populate to dictionary\n",
    "f = open(\"glove.840B.300d.txt\", encoding = \"utf8\")\n",
    "\n",
    "for line in f:\n",
    "    values = line.split()\n",
    "    word = ''.join(values[:-embedding_dim])\n",
    "    coefs = np.asarray(values[-embedding_dim:], dtype='float32')\n",
    "    embeddings_index[word] = coefs\n",
    "f.close()\n",
    "    \n",
    "# train tokenizer \n",
    "tokenizer = Tokenizer(num_words = None)\n",
    "tokenizer.fit_on_texts(X_train)\n",
    "\n",
    "# fit tokenizer\n",
    "sequences_train = tokenizer.texts_to_sequences(X_train)\n",
    "\n",
    "# Padding any short sequences with 0s\n",
    "X_train = pad_sequences(sequences_train, maxlen=max_len)\n",
    "\n",
    "sequences_val = tokenizer.texts_to_sequences(X_val)\n",
    "X_val = pad_sequences(sequences_val, maxlen = max_len)\n",
    "\n",
    "word_index = tokenizer.word_index\n",
    "                \n",
    "# create embedding layer \n",
    "# We can designate \"Out of Vocabulary\" word vectors here \n",
    "# In this case, they are initialized to zero vector\n",
    "embedding_matrix = np.zeros((len(word_index) + 1, embedding_dim))\n",
    "        \n",
    "for word, i in word_index.items():\n",
    "    embedding_vector = embeddings_index.get(word)\n",
    "    if embedding_vector is not None:\n",
    "        embedding_matrix[i] = embedding_vector\n"
   ]
  },
  {
   "cell_type": "code",
   "execution_count": null,
   "metadata": {},
   "outputs": [],
   "source": [
    "embedding_layer = Embedding(len(word_index) + 1, embedding_dim, weights = [embedding_matrix], input_length = max_len, trainable = False) \n",
    "a= Input(shape=(max_len, ), dtype = 'int32')\n",
    "embedded_sequences = embedding_layer(a) \n",
    "x = Bidirectional(CuDNNGRU(50, return_sequences=True))(embedded_sequences)\n",
    "x = GlobalMaxPooling1D()(x)\n",
    "x = Dense(50, activation = 'relu')(x)\n",
    "x = Dropout(0.1)(x)\n",
    "output = Dense(num_classes, activation='softmax')(x)\n",
    "model = Model(inputs=a, outputs=output)\n",
    "model.compile(loss=\"categorical_crossentropy\", optimizer='adam', metrics=['accuracy'])\n",
    "        \n",
    "checkpoint = ModelCheckpoint(\"model.h5\", monitor='val_loss', verbose=1, save_best_only=True, mode='min')\n",
    "early = EarlyStopping(monitor='val_loss', mode='min', patience=3)\n",
    "callback = [checkpoint, early]\n",
    "        \n",
    "model.fit(X_train, y_train, batch_size=batch_size, epochs=epochs, validation_data=(X_val, y_val), callbacks=callback, class_weight = class_weights)\n"
   ]
  },
  {
   "cell_type": "code",
   "execution_count": null,
   "metadata": {},
   "outputs": [],
   "source": [
    "\n",
    "from sklearn.metrics import accuracy_score\n",
    "\n",
    "test = pd.read_csv(\"test.csv\", index_col = False)\n",
    "test[\"rating\"] = test[\"points\"].apply(points_to_class)\n",
    "\n",
    "sequences_test = tokenizer.texts_to_sequences(test[\"description\"])\n",
    "X_test = pad_sequences(sequences_test, maxlen=max_len)\n",
    "\n",
    "# Predictions\n",
    "pred_test = model.predict(X_test)\n",
    "pred_test = [np.argmax(x) for x in pred_test]\n",
    "\n",
    "# Actual\n",
    "true_test = onehot(test[\"rating\"], num_class)\n",
    "true_test = [np.argmax(x) for x in true_test]\n",
    "\n",
    "# Find accuracies\n",
    "accuracy = accuracy_score(true_test, pred_test)"
   ]
  },
  {
   "cell_type": "code",
   "execution_count": null,
   "metadata": {},
   "outputs": [],
   "source": [
    "from sklearn.metrics import confusion_matrix\n",
    "\n",
    "cm = confusion_matrix(true_test, pred_test)\n",
    "cm = cm.astype('float') / cm.sum(axis=1)[:, np.newaxis]\n",
    "\n",
    "plt.imshow(cm, interpolation='nearest', cmap=plt.cm.Blues)\n",
    "\n",
    "class_name = [\"Acceptable\", \"Good\", \"Very Good\", \"Excellent\", \"Superb/Classic\"]\n",
    "plt.colorbar()\n",
    "tick_marks = np.arange(len(class_name))\n",
    "plt.xticks(tick_marks, class_name, rotation=45)\n",
    "plt.yticks(tick_marks, class_name)\n",
    "\n",
    "plt.show()\n",
    "\n"
   ]
  }
 ],
 "metadata": {
  "kernelspec": {
   "display_name": "Python 3",
   "language": "python",
   "name": "python3"
  },
  "language_info": {
   "codemirror_mode": {
    "name": "ipython",
    "version": 3
   },
   "file_extension": ".py",
   "mimetype": "text/x-python",
   "name": "python",
   "nbconvert_exporter": "python",
   "pygments_lexer": "ipython3",
   "version": "3.7.4"
  }
 },
 "nbformat": 4,
 "nbformat_minor": 2
}
